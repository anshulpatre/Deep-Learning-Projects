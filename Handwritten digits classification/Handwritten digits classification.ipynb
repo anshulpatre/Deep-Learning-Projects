{
 "cells": [
  {
   "cell_type": "markdown",
   "id": "0620db71",
   "metadata": {},
   "source": [
    "# Handwritten digits classification using CNN"
   ]
  },
  {
   "cell_type": "code",
   "execution_count": 1,
   "id": "5bb14e33",
   "metadata": {},
   "outputs": [],
   "source": [
    "import pandas as pd\n",
    "import numpy as np\n",
    "from matplotlib import pyplot as plt\n",
    "import warnings\n",
    "warnings.filterwarnings('ignore')\n",
    "import tensorboard as tf\n",
    "from tensorflow import keras\n",
    "from tensorflow.keras import datasets, models, layers"
   ]
  },
  {
   "cell_type": "code",
   "execution_count": 2,
   "id": "f70abf02",
   "metadata": {},
   "outputs": [
    {
     "name": "stdout",
     "output_type": "stream",
     "text": [
      "Downloading data from https://storage.googleapis.com/tensorflow/tf-keras-datasets/mnist.npz\n",
      "11493376/11490434 [==============================] - 0s 0us/step\n",
      "11501568/11490434 [==============================] - 0s 0us/step\n"
     ]
    }
   ],
   "source": [
    "(X_train, y_train), (X_test, y_test) = keras.datasets.mnist.load_data()"
   ]
  },
  {
   "cell_type": "code",
   "execution_count": 4,
   "id": "53e4f008",
   "metadata": {},
   "outputs": [
    {
     "data": {
      "text/plain": [
       "(60000, 28, 28)"
      ]
     },
     "execution_count": 4,
     "metadata": {},
     "output_type": "execute_result"
    }
   ],
   "source": [
    "X_train.shape"
   ]
  },
  {
   "cell_type": "code",
   "execution_count": 5,
   "id": "a67b6cd3",
   "metadata": {},
   "outputs": [
    {
     "data": {
      "text/plain": [
       "(10000, 28, 28)"
      ]
     },
     "execution_count": 5,
     "metadata": {},
     "output_type": "execute_result"
    }
   ],
   "source": [
    "X_test.shape"
   ]
  },
  {
   "cell_type": "code",
   "execution_count": 10,
   "id": "b53796a8",
   "metadata": {},
   "outputs": [
    {
     "data": {
      "text/plain": [
       "<matplotlib.image.AxesImage at 0x24be58b70d0>"
      ]
     },
     "execution_count": 10,
     "metadata": {},
     "output_type": "execute_result"
    },
    {
     "data": {
      "image/png": "[encoded data removed]",
      "text/plain": [
       "<Figure size 288x288 with 1 Axes>"
      ]
     },
     "metadata": {
      "needs_background": "light"
     },
     "output_type": "display_data"
    }
   ],
   "source": [
    "plt.matshow(X_train[1])"
   ]
  },
  {
   "cell_type": "code",
   "execution_count": 12,
   "id": "02bce7a8",
   "metadata": {},
   "outputs": [
    {
     "data": {
      "text/plain": [
       "0"
      ]
     },
     "execution_count": 12,
     "metadata": {},
     "output_type": "execute_result"
    }
   ],
   "source": [
    "y_train[1]"
   ]
  },
  {
   "cell_type": "code",
   "execution_count": 15,
   "id": "50a302d9",
   "metadata": {},
   "outputs": [],
   "source": [
    "# Scaling \n",
    "\n",
    "X_train = X_train / 225\n",
    "X_test = X_test / 225"
   ]
  },
  {
   "cell_type": "markdown",
   "id": "6dabecf6",
   "metadata": {},
   "source": [
    "### Using ANN for classification"
   ]
  },
  {
   "cell_type": "code",
   "execution_count": 16,
   "id": "2be5c549",
   "metadata": {},
   "outputs": [],
   "source": [
    "ann = models.Sequential([\n",
    "    layers.Flatten(input_shape=(28,28)),\n",
    "    layers.Dense(100, activation='relu'),\n",
    "    layers.Dense(10, activation='sigmoid')\n",
    "])\n",
    "\n",
    "ann.compile(optimizer='adam',\n",
    "           loss='sparse_categorical_crossentropy',\n",
    "           metrics = ['accuracy'])"
   ]
  },
  {
   "cell_type": "code",
   "execution_count": 18,
   "id": "7883e1b2",
   "metadata": {},
   "outputs": [
    {
     "name": "stdout",
     "output_type": "stream",
     "text": [
      "Epoch 1/10\n",
      "6000/6000 [==============================] - 5s 821us/step - loss: 0.2208 - accuracy: 0.9349\n",
      "Epoch 2/10\n",
      "6000/6000 [==============================] - 5s 801us/step - loss: 0.0998 - accuracy: 0.9695\n",
      "Epoch 3/10\n",
      "6000/6000 [==============================] - 5s 835us/step - loss: 0.0741 - accuracy: 0.9772\n",
      "Epoch 4/10\n",
      "6000/6000 [==============================] - 5s 813us/step - loss: 0.0552 - accuracy: 0.9825\n",
      "Epoch 5/10\n",
      "6000/6000 [==============================] - 5s 894us/step - loss: 0.0446 - accuracy: 0.9855\n",
      "Epoch 6/10\n",
      "6000/6000 [==============================] - 5s 826us/step - loss: 0.0354 - accuracy: 0.9887\n",
      "Epoch 7/10\n",
      "6000/6000 [==============================] - 5s 874us/step - loss: 0.0297 - accuracy: 0.9906\n",
      "Epoch 8/10\n",
      "6000/6000 [==============================] - 5s 854us/step - loss: 0.0267 - accuracy: 0.9907\n",
      "Epoch 9/10\n",
      "6000/6000 [==============================] - 5s 830us/step - loss: 0.0219 - accuracy: 0.9928\n",
      "Epoch 10/10\n",
      "6000/6000 [==============================] - 5s 846us/step - loss: 0.0202 - accuracy: 0.9933\n"
     ]
    },
    {
     "data": {
      "text/plain": [
       "<keras.callbacks.History at 0x24be4d829a0>"
      ]
     },
     "execution_count": 18,
     "metadata": {},
     "output_type": "execute_result"
    }
   ],
   "source": [
    "ann.fit(X_train, y_train, batch_size=10, epochs=10)"
   ]
  },
  {
   "cell_type": "code",
   "execution_count": 19,
   "id": "634904fc",
   "metadata": {},
   "outputs": [
    {
     "name": "stdout",
     "output_type": "stream",
     "text": [
      "313/313 [==============================] - 0s 655us/step - loss: 0.0899 - accuracy: 0.9797\n"
     ]
    },
    {
     "data": {
      "text/plain": [
       "[0.08985088020563126, 0.9797000288963318]"
      ]
     },
     "execution_count": 19,
     "metadata": {},
     "output_type": "execute_result"
    }
   ],
   "source": [
    "ann.evaluate(X_test, y_test)"
   ]
  },
  {
   "cell_type": "code",
   "execution_count": 22,
   "id": "ca7b9f21",
   "metadata": {},
   "outputs": [
    {
     "data": {
      "text/plain": [
       "(60000, 28, 28, 1)"
      ]
     },
     "execution_count": 22,
     "metadata": {},
     "output_type": "execute_result"
    }
   ],
   "source": [
    "X_train = X_train.reshape(-1,28,28,1)\n",
    "X_train.shape"
   ]
  },
  {
   "cell_type": "code",
   "execution_count": 25,
   "id": "a3674637",
   "metadata": {
    "scrolled": true
   },
   "outputs": [
    {
     "data": {
      "text/plain": [
       "(10000, 28, 28, 1)"
      ]
     },
     "execution_count": 25,
     "metadata": {},
     "output_type": "execute_result"
    }
   ],
   "source": [
    "X_test = X_test.reshape(-1, 28, 28, 1)\n",
    "X_test.shape"
   ]
  },
  {
   "cell_type": "markdown",
   "id": "ab28ea10",
   "metadata": {},
   "source": [
    "### Using CNN for classification"
   ]
  },
  {
   "cell_type": "code",
   "execution_count": 26,
   "id": "cc08175e",
   "metadata": {},
   "outputs": [],
   "source": [
    "cnn = models.Sequential([\n",
    "    layers.Conv2D(filters = 30, kernel_size = (3,3), padding = 'same', activation = 'relu', input_shape = (28,28,1)),\n",
    "    layers.MaxPooling2D((2,2)),\n",
    "    \n",
    "    layers.Conv2D(filters = 60, kernel_size = (3,3), padding = 'same', activation = 'relu'),\n",
    "    layers.MaxPooling2D((2,2)),\n",
    "    \n",
    "    layers.Flatten(),\n",
    "    layers.Dense(100, activation='relu'),\n",
    "    layers.Dense(10, activation='sigmoid')\n",
    "])"
   ]
  },
  {
   "cell_type": "code",
   "execution_count": 28,
   "id": "86736bce",
   "metadata": {},
   "outputs": [],
   "source": [
    "cnn.compile(optimizer='adam',\n",
    "           loss='sparse_categorical_crossentropy',\n",
    "           metrics=['accuracy'])"
   ]
  },
  {
   "cell_type": "code",
   "execution_count": 30,
   "id": "bfea0a8f",
   "metadata": {},
   "outputs": [
    {
     "name": "stdout",
     "output_type": "stream",
     "text": [
      "Epoch 1/5\n",
      "938/938 [==============================] - 46s 49ms/step - loss: 0.0200 - accuracy: 0.9934\n",
      "Epoch 2/5\n",
      "938/938 [==============================] - 40s 42ms/step - loss: 0.0144 - accuracy: 0.9954\n",
      "Epoch 3/5\n",
      "938/938 [==============================] - 39s 42ms/step - loss: 0.0111 - accuracy: 0.9963\n",
      "Epoch 4/5\n",
      "938/938 [==============================] - 44s 47ms/step - loss: 0.0096 - accuracy: 0.9968\n",
      "Epoch 5/5\n",
      "938/938 [==============================] - 39s 41ms/step - loss: 0.0082 - accuracy: 0.9973\n"
     ]
    },
    {
     "data": {
      "text/plain": [
       "<keras.callbacks.History at 0x24c21e0b370>"
      ]
     },
     "execution_count": 30,
     "metadata": {},
     "output_type": "execute_result"
    }
   ],
   "source": [
    "cnn.fit(X_train, y_train, batch_size=64, epochs=5)"
   ]
  },
  {
   "cell_type": "code",
   "execution_count": 32,
   "id": "9a0108c6",
   "metadata": {},
   "outputs": [
    {
     "name": "stdout",
     "output_type": "stream",
     "text": [
      "313/313 [==============================] - 2s 6ms/step - loss: 0.0309 - accuracy: 0.9923\n"
     ]
    },
    {
     "data": {
      "text/plain": [
       "[0.03090243600308895, 0.9922999739646912]"
      ]
     },
     "execution_count": 32,
     "metadata": {},
     "output_type": "execute_result"
    }
   ],
   "source": [
    "cnn.evaluate(X_test, y_test)"
   ]
  },
  {
   "cell_type": "code",
   "execution_count": 35,
   "id": "2d838dcd",
   "metadata": {},
   "outputs": [
    {
     "data": {
      "text/plain": [
       "array([[2.15651817e-05, 1.25290513e-01, 4.51044917e-01, 8.91895592e-01,\n",
       "        2.83352226e-01, 5.54886460e-03, 9.34413137e-12, 1.00000000e+00,\n",
       "        7.96234608e-03, 9.28758502e-01],\n",
       "       [9.96442318e-01, 9.99365449e-01, 1.00000000e+00, 6.69610699e-06,\n",
       "        5.36441803e-03, 2.17969202e-07, 7.84695029e-01, 1.73926353e-04,\n",
       "        5.75385094e-01, 1.09318495e-02],\n",
       "       [8.14157724e-03, 1.00000000e+00, 1.40263140e-02, 4.57447932e-05,\n",
       "        7.35708237e-01, 4.17276025e-02, 7.29113817e-04, 8.27041626e-01,\n",
       "        1.20095879e-01, 1.27124190e-02],\n",
       "       [1.00000000e+00, 1.40722852e-06, 1.19585246e-01, 7.04437494e-04,\n",
       "        1.26445293e-03, 5.81760406e-02, 9.96972322e-01, 5.45620918e-04,\n",
       "        1.68644875e-01, 9.61498618e-01],\n",
       "       [7.31050968e-04, 4.02636886e-01, 7.37105511e-05, 1.00123798e-05,\n",
       "        1.00000000e+00, 6.45126493e-05, 2.89565325e-03, 7.31356144e-02,\n",
       "        1.42231882e-02, 9.98882473e-01]], dtype=float32)"
      ]
     },
     "execution_count": 35,
     "metadata": {},
     "output_type": "execute_result"
    }
   ],
   "source": [
    "pred = cnn.predict(X_test)\n",
    "pred[:5]"
   ]
  },
  {
   "cell_type": "code",
   "execution_count": 36,
   "id": "c2a5e428",
   "metadata": {},
   "outputs": [],
   "source": [
    "y_pred = [np.argmax(i) for i in pred]"
   ]
  },
  {
   "cell_type": "code",
   "execution_count": 38,
   "id": "a4733e6d",
   "metadata": {},
   "outputs": [],
   "source": [
    "def plot_img(X,truth,predict,index):\n",
    "    plt.imshow(X[index])\n",
    "    print(f'Truth : {truth[index]}')\n",
    "    print(f'Prediction : {predict[index]}')    "
   ]
  },
  {
   "cell_type": "code",
   "execution_count": 44,
   "id": "cd427f15",
   "metadata": {},
   "outputs": [
    {
     "name": "stdout",
     "output_type": "stream",
     "text": [
      "Truth : 2\n",
      "Prediction : 2\n"
     ]
    },
    {
     "data": {
      "image/png": "[encoded data removed]",
      "text/plain": [
       "<Figure size 432x288 with 1 Axes>"
      ]
     },
     "metadata": {
      "needs_background": "light"
     },
     "output_type": "display_data"
    }
   ],
   "source": [
    "plot_img(X_test,y_test,y_pred,1)"
   ]
  },
  {
   "cell_type": "code",
   "execution_count": 45,
   "id": "6d99782c",
   "metadata": {},
   "outputs": [],
   "source": [
    "result = pd.DataFrame({\"Truth\" : y_test, \"Prediction\" : y_pred})"
   ]
  },
  {
   "cell_type": "code",
   "execution_count": 62,
   "id": "e2a1128c",
   "metadata": {},
   "outputs": [
    {
     "data": {
      "text/html": [
       "<div>\n",
       "<style scoped>\n",
       "    .dataframe tbody tr th:only-of-type {\n",
       "        vertical-align: middle;\n",
       "    }\n",
       "\n",
       "    .dataframe tbody tr th {\n",
       "        vertical-align: top;\n",
       "    }\n",
       "\n",
       "    .dataframe thead th {\n",
       "        text-align: right;\n",
       "    }\n",
       "</style>\n",
       "<table border=\"1\" class=\"dataframe\">\n",
       "  <thead>\n",
       "    <tr style=\"text-align: right;\">\n",
       "      <th></th>\n",
       "      <th>Truth</th>\n",
       "      <th>Prediction</th>\n",
       "    </tr>\n",
       "  </thead>\n",
       "  <tbody>\n",
       "    <tr>\n",
       "      <th>2510</th>\n",
       "      <td>1</td>\n",
       "      <td>1</td>\n",
       "    </tr>\n",
       "    <tr>\n",
       "      <th>5118</th>\n",
       "      <td>8</td>\n",
       "      <td>8</td>\n",
       "    </tr>\n",
       "    <tr>\n",
       "      <th>9446</th>\n",
       "      <td>2</td>\n",
       "      <td>2</td>\n",
       "    </tr>\n",
       "    <tr>\n",
       "      <th>6214</th>\n",
       "      <td>9</td>\n",
       "      <td>9</td>\n",
       "    </tr>\n",
       "    <tr>\n",
       "      <th>3167</th>\n",
       "      <td>3</td>\n",
       "      <td>3</td>\n",
       "    </tr>\n",
       "    <tr>\n",
       "      <th>7935</th>\n",
       "      <td>2</td>\n",
       "      <td>2</td>\n",
       "    </tr>\n",
       "    <tr>\n",
       "      <th>4697</th>\n",
       "      <td>7</td>\n",
       "      <td>7</td>\n",
       "    </tr>\n",
       "    <tr>\n",
       "      <th>5532</th>\n",
       "      <td>7</td>\n",
       "      <td>7</td>\n",
       "    </tr>\n",
       "    <tr>\n",
       "      <th>122</th>\n",
       "      <td>7</td>\n",
       "      <td>7</td>\n",
       "    </tr>\n",
       "    <tr>\n",
       "      <th>7907</th>\n",
       "      <td>0</td>\n",
       "      <td>0</td>\n",
       "    </tr>\n",
       "  </tbody>\n",
       "</table>\n",
       "</div>"
      ],
      "text/plain": [
       "      Truth  Prediction\n",
       "2510      1           1\n",
       "5118      8           8\n",
       "9446      2           2\n",
       "6214      9           9\n",
       "3167      3           3\n",
       "7935      2           2\n",
       "4697      7           7\n",
       "5532      7           7\n",
       "122       7           7\n",
       "7907      0           0"
      ]
     },
     "execution_count": 62,
     "metadata": {},
     "output_type": "execute_result"
    }
   ],
   "source": [
    "result.sample(10)"
   ]
  },
  {
   "cell_type": "code",
   "execution_count": null,
   "id": "6c08d0be",
   "metadata": {},
   "outputs": [],
   "source": []
  },
  {
   "cell_type": "code",
   "execution_count": null,
   "id": "823e3a10",
   "metadata": {},
   "outputs": [],
   "source": []
  }
 ],
 "metadata": {
  "kernelspec": {
   "display_name": "Python 3 (ipykernel)",
   "language": "python",
   "name": "python3"
  },
  "language_info": {
   "codemirror_mode": {
    "name": "ipython",
    "version": 3
   },
   "file_extension": ".py",
   "mimetype": "text/x-python",
   "name": "python",
   "nbconvert_exporter": "python",
   "pygments_lexer": "ipython3",
   "version": "3.9.6"
  }
 },
 "nbformat": 4,
 "nbformat_minor": 5
}
